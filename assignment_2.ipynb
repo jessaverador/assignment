{
  "nbformat": 4,
  "nbformat_minor": 0,
  "metadata": {
    "colab": {
      "name": "assignment 2",
      "provenance": [],
      "authorship_tag": "ABX9TyPOOYrz9dLdWw4fQM/KpoGu",
      "include_colab_link": true
    },
    "kernelspec": {
      "name": "python3",
      "display_name": "Python 3"
    },
    "language_info": {
      "name": "python"
    }
  },
  "cells": [
    {
      "cell_type": "markdown",
      "metadata": {
        "id": "view-in-github",
        "colab_type": "text"
      },
      "source": [
        "<a href=\"https://colab.research.google.com/github/jessaverador/assignment/blob/main/assignment_2.ipynb\" target=\"_parent\"><img src=\"https://colab.research.google.com/assets/colab-badge.svg\" alt=\"Open In Colab\"/></a>"
      ]
    },
    {
      "cell_type": "code",
      "metadata": {
        "id": "KQFcK7UNWcMP"
      },
      "source": [
        "name = 'Jessa Verador' #@param {type:\"string\"}\n",
        "print(name) \n",
        "\n",
        "AGE = '22' #@param{type:\"string\"}\n",
        "print(AGE)\n",
        "\n",
        "month_name = '2019-06-03' #@param {type:\"date\"}\n",
        "print(month_input)\n"
      ],
      "execution_count": null,
      "outputs": []
    }
  ]
}